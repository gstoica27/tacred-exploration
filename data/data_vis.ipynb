{
 "cells": [
  {
   "cell_type": "code",
   "execution_count": 6,
   "metadata": {},
   "outputs": [],
   "source": [
    "import json\n",
    "import numpy as np\n",
    "import os\n",
    "from collections import defaultdict"
   ]
  },
  {
   "cell_type": "code",
   "execution_count": 2,
   "metadata": {},
   "outputs": [],
   "source": [
    "data_dir = '/Volumes/External HDD/dataset/tacred/data/json'\n",
    "train_split_file = os.path.join(data_dir, 'train_split.json')\n",
    "test_split_file = os.path.join(data_dir, 'test_split.json')"
   ]
  },
  {
   "cell_type": "code",
   "execution_count": 22,
   "metadata": {},
   "outputs": [],
   "source": [
    "def load_data(data_file):\n",
    "    with open(data_file, 'rb') as handle:\n",
    "        data = json.load(handle)\n",
    "    return data\n",
    "\n",
    "def group_by_triple(data):\n",
    "    triple2data = defaultdict(lambda: list())\n",
    "    for example in data:\n",
    "        relation = example['relation']\n",
    "        subject_type = example['subj_type']\n",
    "        object_type = example['obj_type']\n",
    "        triple = (subject_type, relation, object_type)\n",
    "        triple2data[triple].append(example)\n",
    "\n",
    "    for triple, examples in triple2data.items():\n",
    "        triple2data[triple] = np.array(examples)\n",
    "    return triple2data\n",
    "\n",
    "def triple2lengths(data1, data2):\n",
    "    data2_triple = set(list(data2.keys()))\n",
    "    seen_triple = set()\n",
    "    for triple, samples1 in data1.items():\n",
    "        seen_triple.add(triple)\n",
    "        samples2 = data2[triple]\n",
    "        print(f'{triple} | Train: {len(samples1)} | Test: {len(samples2)}')\n",
    "    unseen_triple  = data2_triple - seen_triple\n",
    "    for triple in unseen_triple:\n",
    "        print(f'{triple} | Train: 0 | Test: {len(data2[triple])}')"
   ]
  },
  {
   "cell_type": "code",
   "execution_count": 4,
   "metadata": {},
   "outputs": [],
   "source": [
    "train_data = load_data(train_split_file)\n",
    "test_data = load_data(test_split_file)"
   ]
  },
  {
   "cell_type": "code",
   "execution_count": 16,
   "metadata": {},
   "outputs": [],
   "source": [
    "train_triple2data = group_by_triple(train_data)\n",
    "test_triple2data = group_by_triple(test_data)"
   ]
  },
  {
   "cell_type": "code",
   "execution_count": 23,
   "metadata": {},
   "outputs": [
    {
     "name": "stdout",
     "output_type": "stream",
     "text": [
      "('ORGANIZATION', 'no_relation', 'ORGANIZATION') | Train: 4283 | Test: 2166\n",
      "('PERSON', 'no_relation', 'CAUSE_OF_DEATH') | Train: 228 | Test: 141\n",
      "('PERSON', 'no_relation', 'LOCATION') | Train: 758 | Test: 394\n",
      "('ORGANIZATION', 'no_relation', 'NUMBER') | Train: 2299 | Test: 1084\n",
      "('PERSON', 'no_relation', 'TITLE') | Train: 1169 | Test: 570\n",
      "('PERSON', 'no_relation', 'NUMBER') | Train: 1213 | Test: 613\n",
      "('PERSON', 'no_relation', 'PERSON') | Train: 8255 | Test: 4164\n",
      "('ORGANIZATION', 'no_relation', 'DATE') | Train: 2831 | Test: 1468\n",
      "('ORGANIZATION', 'no_relation', 'CITY') | Train: 644 | Test: 296\n",
      "('ORGANIZATION', 'no_relation', 'LOCATION') | Train: 810 | Test: 435\n",
      "('ORGANIZATION', 'no_relation', 'PERSON') | Train: 3041 | Test: 1500\n",
      "('ORGANIZATION', 'no_relation', 'COUNTRY') | Train: 1053 | Test: 529\n",
      "('PERSON', 'no_relation', 'DATE') | Train: 2247 | Test: 1109\n",
      "('PERSON', 'no_relation', 'CITY') | Train: 505 | Test: 232\n",
      "('ORGANIZATION', 'no_relation', 'STATE_OR_PROVINCE') | Train: 263 | Test: 126\n",
      "('PERSON', 'no_relation', 'NATIONALITY') | Train: 363 | Test: 183\n",
      "('PERSON', 'no_relation', 'STATE_OR_PROVINCE') | Train: 265 | Test: 129\n",
      "('ORGANIZATION', 'no_relation', 'MISC') | Train: 667 | Test: 357\n",
      "('PERSON', 'no_relation', 'ORGANIZATION') | Train: 1870 | Test: 923\n",
      "('ORGANIZATION', 'no_relation', 'IDEOLOGY') | Train: 128 | Test: 46\n",
      "('PERSON', 'no_relation', 'MISC') | Train: 570 | Test: 293\n",
      "('PERSON', 'no_relation', 'COUNTRY') | Train: 609 | Test: 289\n",
      "('PERSON', 'no_relation', 'DURATION') | Train: 514 | Test: 257\n",
      "('PERSON', 'no_relation', 'RELIGION') | Train: 53 | Test: 18\n",
      "('PERSON', 'no_relation', 'CRIMINAL_CHARGE') | Train: 58 | Test: 29\n",
      "('ORGANIZATION', 'no_relation', 'RELIGION') | Train: 73 | Test: 36\n",
      "('ORGANIZATION', 'no_relation', 'URL') | Train: 47 | Test: 18\n",
      "('PERSON', 'per:title', 'TITLE') | Train: 203 | Test: 100\n",
      "('ORGANIZATION', 'org:stateorprovince_of_headquarters', 'LOCATION') | Train: 7 | Test: 3\n",
      "('ORGANIZATION', 'org:stateorprovince_of_headquarters', 'STATE_OR_PROVINCE') | Train: 28 | Test: 13\n",
      "('ORGANIZATION', 'org:member_of', 'ORGANIZATION') | Train: 41 | Test: 19\n",
      "('ORGANIZATION', 'org:member_of', 'COUNTRY') | Train: 9 | Test: 3\n",
      "('ORGANIZATION', 'org:member_of', 'LOCATION') | Train: 6 | Test: 5\n",
      "('ORGANIZATION', 'org:member_of', 'STATE_OR_PROVINCE') | Train: 2 | Test: 1\n",
      "('PERSON', 'per:parents', 'PERSON') | Train: 15 | Test: 7\n",
      "('PERSON', 'per:age', 'NUMBER') | Train: 29 | Test: 8\n",
      "('PERSON', 'per:age', 'DURATION') | Train: 10 | Test: 11\n",
      "('PERSON', 'per:employee_of', 'ORGANIZATION') | Train: 187 | Test: 91\n",
      "('PERSON', 'per:date_of_death', 'DATE') | Train: 24 | Test: 11\n",
      "('ORGANIZATION', 'org:city_of_headquarters', 'CITY') | Train: 79 | Test: 35\n",
      "('ORGANIZATION', 'org:city_of_headquarters', 'LOCATION') | Train: 12 | Test: 9\n",
      "('ORGANIZATION', 'org:country_of_headquarters', 'COUNTRY') | Train: 134 | Test: 68\n",
      "('ORGANIZATION', 'org:country_of_headquarters', 'LOCATION') | Train: 9 | Test: 2\n",
      "('ORGANIZATION', 'org:subsidiaries', 'ORGANIZATION') | Train: 61 | Test: 31\n",
      "('ORGANIZATION', 'org:subsidiaries', 'LOCATION') | Train: 18 | Test: 7\n",
      "('ORGANIZATION', 'org:alternate_names', 'ORGANIZATION') | Train: 98 | Test: 48\n",
      "('ORGANIZATION', 'org:alternate_names', 'MISC') | Train: 13 | Test: 7\n",
      "('PERSON', 'per:countries_of_residence', 'COUNTRY') | Train: 81 | Test: 39\n",
      "('PERSON', 'per:countries_of_residence', 'LOCATION') | Train: 6 | Test: 1\n",
      "('PERSON', 'per:countries_of_residence', 'NATIONALITY') | Train: 18 | Test: 12\n",
      "('PERSON', 'per:origin', 'COUNTRY') | Train: 16 | Test: 7\n",
      "('PERSON', 'per:origin', 'NATIONALITY') | Train: 51 | Test: 26\n",
      "('PERSON', 'per:origin', 'LOCATION') | Train: 2 | Test: 1\n",
      "('ORGANIZATION', 'org:members', 'COUNTRY') | Train: 18 | Test: 7\n",
      "('ORGANIZATION', 'org:members', 'ORGANIZATION') | Train: 53 | Test: 27\n",
      "('PERSON', 'per:cities_of_residence', 'LOCATION') | Train: 35 | Test: 18\n",
      "('PERSON', 'per:cities_of_residence', 'CITY') | Train: 52 | Test: 25\n",
      "('ORGANIZATION', 'org:top_members/employees', 'PERSON') | Train: 173 | Test: 86\n",
      "('PERSON', 'per:date_of_birth', 'DATE') | Train: 5 | Test: 2\n",
      "('ORGANIZATION', 'org:political/religious_affiliation', 'RELIGION') | Train: 19 | Test: 11\n",
      "('ORGANIZATION', 'org:political/religious_affiliation', 'IDEOLOGY') | Train: 15 | Test: 5\n",
      "('PERSON', 'per:stateorprovinces_of_residence', 'STATE_OR_PROVINCE') | Train: 37 | Test: 14\n",
      "('PERSON', 'per:stateorprovinces_of_residence', 'LOCATION') | Train: 10 | Test: 8\n",
      "('PERSON', 'per:other_family', 'PERSON') | Train: 67 | Test: 33\n",
      "('ORGANIZATION', 'org:number_of_employees/members', 'NUMBER') | Train: 31 | Test: 14\n",
      "('PERSON', 'per:alternate_names', 'PERSON') | Train: 37 | Test: 19\n",
      "('PERSON', 'per:alternate_names', 'MISC') | Train: 6 | Test: 2\n",
      "('PERSON', 'per:spouse', 'PERSON') | Train: 51 | Test: 24\n",
      "('ORGANIZATION', 'org:founded_by', 'PERSON') | Train: 23 | Test: 11\n",
      "('ORGANIZATION', 'org:parents', 'ORGANIZATION') | Train: 70 | Test: 36\n",
      "('ORGANIZATION', 'org:parents', 'COUNTRY') | Train: 9 | Test: 2\n",
      "('ORGANIZATION', 'org:parents', 'LOCATION') | Train: 4 | Test: 2\n",
      "('ORGANIZATION', 'org:dissolved', 'DATE') | Train: 13 | Test: 5\n",
      "('ORGANIZATION', 'org:founded', 'DATE') | Train: 31 | Test: 15\n",
      "('PERSON', 'per:siblings', 'PERSON') | Train: 35 | Test: 17\n",
      "('PERSON', 'per:children', 'PERSON') | Train: 16 | Test: 7\n",
      "('PERSON', 'per:schools_attended', 'ORGANIZATION') | Train: 10 | Test: 4\n",
      "('ORGANIZATION', 'org:shareholders', 'PERSON') | Train: 12 | Test: 2\n",
      "('ORGANIZATION', 'org:shareholders', 'ORGANIZATION') | Train: 6 | Test: 6\n",
      "('PERSON', 'per:religion', 'RELIGION') | Train: 9 | Test: 3\n",
      "('ORGANIZATION', 'org:website', 'URL') | Train: 9 | Test: 4\n",
      "('PERSON', 'per:city_of_death', 'CITY') | Train: 5 | Test: 1\n",
      "('PERSON', 'per:city_of_death', 'LOCATION') | Train: 1 | Test: 1\n",
      "('PERSON', 'per:cause_of_death', 'CAUSE_OF_DEATH') | Train: 5 | Test: 1\n",
      "('PERSON', 'per:country_of_birth', 'COUNTRY') | Train: 3 | Test: 1\n",
      "('PERSON', 'per:country_of_birth', 'NATIONALITY') | Train: 1 | Test: 0\n",
      "('PERSON', 'per:city_of_birth', 'CITY') | Train: 3 | Test: 1\n",
      "('PERSON', 'per:city_of_birth', 'LOCATION') | Train: 1 | Test: 0\n",
      "('PERSON', 'per:charges', 'CRIMINAL_CHARGE') | Train: 5 | Test: 2\n",
      "('ORGANIZATION', 'org:subsidiaries', 'COUNTRY') | Train: 0 | Test: 1\n",
      "('PERSON', 'per:employee_of', 'LOCATION') | Train: 0 | Test: 1\n"
     ]
    }
   ],
   "source": [
    "triple2lengths(train_triple2data, test_triple2data)"
   ]
  },
  {
   "cell_type": "code",
   "execution_count": null,
   "metadata": {},
   "outputs": [],
   "source": []
  },
  {
   "cell_type": "code",
   "execution_count": null,
   "metadata": {},
   "outputs": [],
   "source": []
  }
 ],
 "metadata": {
  "kernelspec": {
   "display_name": "Python 3",
   "language": "python",
   "name": "python3"
  },
  "language_info": {
   "codemirror_mode": {
    "name": "ipython",
    "version": 3
   },
   "file_extension": ".py",
   "mimetype": "text/x-python",
   "name": "python",
   "nbconvert_exporter": "python",
   "pygments_lexer": "ipython3",
   "version": "3.7.5"
  }
 },
 "nbformat": 4,
 "nbformat_minor": 1
}
