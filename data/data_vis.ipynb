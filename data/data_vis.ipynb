{
 "cells": [
  {
   "cell_type": "code",
   "execution_count": 24,
   "metadata": {},
   "outputs": [],
   "source": [
    "import json\n",
    "import numpy as np\n",
    "import os\n",
    "from collections import defaultdict"
   ]
  },
  {
   "cell_type": "code",
   "execution_count": 45,
   "metadata": {},
   "outputs": [],
   "source": [
    "data_dir = '/Volumes/External HDD/dataset/tacred/data/json'\n",
    "train_split_file = os.path.join(data_dir, 'train_split-0.1.json')\n",
    "test_split_file = os.path.join(data_dir, 'test_split-0.1.json')\n",
    "original_file = os.path.join(data_dir, 'train_negatives.json')"
   ]
  },
  {
   "cell_type": "code",
   "execution_count": 46,
   "metadata": {},
   "outputs": [],
   "source": [
    "def load_data(data_file):\n",
    "    with open(data_file, 'rb') as handle:\n",
    "        data = json.load(handle)\n",
    "    return data\n",
    "\n",
    "def group_by_triple(data):\n",
    "    triple2data = defaultdict(lambda: list())\n",
    "    for example in data:\n",
    "        relation = example['relation']\n",
    "        subject_type = example['subj_type']\n",
    "        object_type = example['obj_type']\n",
    "        triple = (subject_type, relation, object_type)\n",
    "        triple2data[triple].append(example)\n",
    "\n",
    "    for triple, examples in triple2data.items():\n",
    "        triple2data[triple] = np.array(examples)\n",
    "    return triple2data\n",
    "\n",
    "def triple2lengths(data1, data2):\n",
    "    data2_triple = set(list(data2.keys()))\n",
    "    seen_triple = set()\n",
    "    for triple, samples1 in data1.items():\n",
    "        seen_triple.add(triple)\n",
    "        samples2 = data2[triple]\n",
    "        print(f'{triple} | Train: {len(samples1)} | Test: {len(samples2)}')\n",
    "    unseen_triple  = data2_triple - seen_triple\n",
    "    for triple in unseen_triple:\n",
    "        print(f'{triple} | Train: 0 | Test: {len(data2[triple])}')"
   ]
  },
  {
   "cell_type": "code",
   "execution_count": 47,
   "metadata": {},
   "outputs": [],
   "source": [
    "train_data = load_data(train_split_file)\n",
    "test_data = load_data(test_split_file)\n",
    "negative_data = load_data(original_file)"
   ]
  },
  {
   "cell_type": "code",
   "execution_count": 48,
   "metadata": {},
   "outputs": [],
   "source": [
    "train_triple2data = group_by_triple(train_data)\n",
    "test_triple2data = group_by_triple(test_data)"
   ]
  },
  {
   "cell_type": "code",
   "execution_count": 49,
   "metadata": {},
   "outputs": [
    {
     "name": "stdout",
     "output_type": "stream",
     "text": [
      "('ORGANIZATION', 'no_relation', 'ORGANIZATION') | Train: 5805 | Test: 644\n",
      "('PERSON', 'no_relation', 'CAUSE_OF_DEATH') | Train: 333 | Test: 36\n",
      "('PERSON', 'no_relation', 'LOCATION') | Train: 1037 | Test: 115\n",
      "('ORGANIZATION', 'no_relation', 'NUMBER') | Train: 3045 | Test: 338\n",
      "('PERSON', 'no_relation', 'ORGANIZATION') | Train: 2514 | Test: 279\n",
      "('PERSON', 'no_relation', 'TITLE') | Train: 1566 | Test: 173\n",
      "('ORGANIZATION', 'no_relation', 'PERSON') | Train: 4087 | Test: 454\n",
      "('PERSON', 'no_relation', 'DATE') | Train: 3021 | Test: 335\n",
      "('PERSON', 'no_relation', 'NUMBER') | Train: 1644 | Test: 182\n",
      "('PERSON', 'no_relation', 'PERSON') | Train: 11178 | Test: 1241\n",
      "('PERSON', 'per:title', 'TITLE') | Train: 273 | Test: 30\n",
      "('ORGANIZATION', 'no_relation', 'DATE') | Train: 3870 | Test: 429\n",
      "('ORGANIZATION', 'no_relation', 'CITY') | Train: 846 | Test: 94\n",
      "('PERSON', 'no_relation', 'STATE_OR_PROVINCE') | Train: 355 | Test: 39\n",
      "('ORGANIZATION', 'no_relation', 'LOCATION') | Train: 1121 | Test: 124\n",
      "('ORGANIZATION', 'org:stateorprovince_of_headquarters', 'LOCATION') | Train: 9 | Test: 1\n",
      "('ORGANIZATION', 'org:member_of', 'ORGANIZATION') | Train: 54 | Test: 6\n",
      "('ORGANIZATION', 'no_relation', 'COUNTRY') | Train: 1424 | Test: 158\n",
      "('PERSON', 'no_relation', 'CITY') | Train: 664 | Test: 73\n",
      "('PERSON', 'per:parents', 'PERSON') | Train: 20 | Test: 2\n",
      "('ORGANIZATION', 'no_relation', 'STATE_OR_PROVINCE') | Train: 351 | Test: 38\n",
      "('PERSON', 'per:age', 'NUMBER') | Train: 34 | Test: 3\n",
      "('PERSON', 'per:employee_of', 'ORGANIZATION') | Train: 251 | Test: 27\n",
      "('PERSON', 'no_relation', 'NATIONALITY') | Train: 492 | Test: 54\n",
      "('ORGANIZATION', 'no_relation', 'MISC') | Train: 922 | Test: 102\n",
      "('PERSON', 'per:date_of_death', 'DATE') | Train: 32 | Test: 3\n",
      "('ORGANIZATION', 'org:member_of', 'LOCATION') | Train: 10 | Test: 1\n",
      "('PERSON', 'no_relation', 'COUNTRY') | Train: 809 | Test: 89\n",
      "('ORGANIZATION', 'org:city_of_headquarters', 'CITY') | Train: 103 | Test: 11\n",
      "('PERSON', 'no_relation', 'DURATION') | Train: 694 | Test: 77\n",
      "('ORGANIZATION', 'org:country_of_headquarters', 'COUNTRY') | Train: 182 | Test: 20\n",
      "('ORGANIZATION', 'no_relation', 'IDEOLOGY') | Train: 157 | Test: 17\n",
      "('PERSON', 'no_relation', 'MISC') | Train: 777 | Test: 86\n",
      "('ORGANIZATION', 'org:subsidiaries', 'ORGANIZATION') | Train: 83 | Test: 9\n",
      "('PERSON', 'no_relation', 'CRIMINAL_CHARGE') | Train: 79 | Test: 8\n",
      "('ORGANIZATION', 'org:alternate_names', 'ORGANIZATION') | Train: 132 | Test: 14\n",
      "('ORGANIZATION', 'org:alternate_names', 'MISC') | Train: 18 | Test: 2\n",
      "('PERSON', 'per:age', 'DURATION') | Train: 19 | Test: 2\n",
      "('PERSON', 'per:countries_of_residence', 'COUNTRY') | Train: 108 | Test: 12\n",
      "('PERSON', 'per:origin', 'COUNTRY') | Train: 21 | Test: 2\n",
      "('ORGANIZATION', 'org:members', 'COUNTRY') | Train: 23 | Test: 2\n",
      "('PERSON', 'per:cities_of_residence', 'LOCATION') | Train: 48 | Test: 5\n",
      "('PERSON', 'per:cities_of_residence', 'CITY') | Train: 70 | Test: 7\n",
      "('ORGANIZATION', 'org:top_members/employees', 'PERSON') | Train: 234 | Test: 25\n",
      "('PERSON', 'per:date_of_birth', 'DATE') | Train: 7 | Test: 0\n",
      "('ORGANIZATION', 'org:political/religious_affiliation', 'IDEOLOGY') | Train: 18 | Test: 2\n",
      "('PERSON', 'no_relation', 'RELIGION') | Train: 64 | Test: 7\n",
      "('ORGANIZATION', 'org:members', 'ORGANIZATION') | Train: 72 | Test: 8\n",
      "('ORGANIZATION', 'org:political/religious_affiliation', 'RELIGION') | Train: 27 | Test: 3\n",
      "('PERSON', 'per:origin', 'NATIONALITY') | Train: 70 | Test: 7\n",
      "('PERSON', 'per:stateorprovinces_of_residence', 'STATE_OR_PROVINCE') | Train: 46 | Test: 5\n",
      "('ORGANIZATION', 'no_relation', 'RELIGION') | Train: 99 | Test: 10\n",
      "('PERSON', 'per:other_family', 'PERSON') | Train: 90 | Test: 10\n",
      "('ORGANIZATION', 'org:number_of_employees/members', 'NUMBER') | Train: 41 | Test: 4\n",
      "('PERSON', 'per:alternate_names', 'PERSON') | Train: 51 | Test: 5\n",
      "('PERSON', 'per:spouse', 'PERSON') | Train: 68 | Test: 7\n",
      "('ORGANIZATION', 'org:subsidiaries', 'LOCATION') | Train: 23 | Test: 2\n",
      "('ORGANIZATION', 'org:founded_by', 'PERSON') | Train: 31 | Test: 3\n",
      "('ORGANIZATION', 'org:parents', 'ORGANIZATION') | Train: 96 | Test: 10\n",
      "('ORGANIZATION', 'org:country_of_headquarters', 'LOCATION') | Train: 10 | Test: 1\n",
      "('PERSON', 'per:countries_of_residence', 'LOCATION') | Train: 7 | Test: 0\n",
      "('ORGANIZATION', 'org:dissolved', 'DATE') | Train: 17 | Test: 1\n",
      "('ORGANIZATION', 'org:founded', 'DATE') | Train: 42 | Test: 4\n",
      "('PERSON', 'per:siblings', 'PERSON') | Train: 47 | Test: 5\n",
      "('PERSON', 'per:children', 'PERSON') | Train: 21 | Test: 2\n",
      "('ORGANIZATION', 'org:member_of', 'COUNTRY') | Train: 11 | Test: 1\n",
      "('PERSON', 'per:stateorprovinces_of_residence', 'LOCATION') | Train: 17 | Test: 1\n",
      "('PERSON', 'per:countries_of_residence', 'NATIONALITY') | Train: 27 | Test: 3\n",
      "('PERSON', 'per:schools_attended', 'ORGANIZATION') | Train: 13 | Test: 1\n",
      "('ORGANIZATION', 'org:stateorprovince_of_headquarters', 'STATE_OR_PROVINCE') | Train: 37 | Test: 4\n",
      "('ORGANIZATION', 'org:shareholders', 'ORGANIZATION') | Train: 11 | Test: 1\n",
      "('ORGANIZATION', 'org:shareholders', 'PERSON') | Train: 13 | Test: 1\n",
      "('ORGANIZATION', 'org:city_of_headquarters', 'LOCATION') | Train: 19 | Test: 2\n",
      "('PERSON', 'per:religion', 'RELIGION') | Train: 11 | Test: 1\n",
      "('ORGANIZATION', 'no_relation', 'URL') | Train: 59 | Test: 6\n",
      "('ORGANIZATION', 'org:parents', 'COUNTRY') | Train: 10 | Test: 1\n",
      "('ORGANIZATION', 'org:website', 'URL') | Train: 12 | Test: 1\n",
      "('PERSON', 'per:city_of_death', 'CITY') | Train: 6 | Test: 0\n",
      "('PERSON', 'per:origin', 'LOCATION') | Train: 3 | Test: 0\n",
      "('PERSON', 'per:cause_of_death', 'CAUSE_OF_DEATH') | Train: 6 | Test: 0\n",
      "('PERSON', 'per:country_of_birth', 'COUNTRY') | Train: 4 | Test: 0\n",
      "('PERSON', 'per:city_of_birth', 'CITY') | Train: 4 | Test: 0\n",
      "('ORGANIZATION', 'org:parents', 'LOCATION') | Train: 6 | Test: 0\n",
      "('PERSON', 'per:alternate_names', 'MISC') | Train: 8 | Test: 0\n",
      "('PERSON', 'per:city_of_birth', 'LOCATION') | Train: 1 | Test: 0\n",
      "('PERSON', 'per:charges', 'CRIMINAL_CHARGE') | Train: 7 | Test: 0\n",
      "('PERSON', 'per:city_of_death', 'LOCATION') | Train: 2 | Test: 0\n",
      "('ORGANIZATION', 'org:member_of', 'STATE_OR_PROVINCE') | Train: 3 | Test: 0\n",
      "('PERSON', 'per:stateorprovince_of_birth', 'STATE_OR_PROVINCE') | Train: 2 | Test: 0\n",
      "('PERSON', 'per:stateorprovince_of_death', 'STATE_OR_PROVINCE') | Train: 1 | Test: 0\n",
      "('PERSON', 'per:employee_of', 'LOCATION') | Train: 1 | Test: 0\n",
      "('ORGANIZATION', 'org:subsidiaries', 'COUNTRY') | Train: 1 | Test: 0\n",
      "('PERSON', 'per:country_of_birth', 'NATIONALITY') | Train: 1 | Test: 0\n",
      "('PERSON', 'per:country_of_death', 'NATIONALITY') | Train: 1 | Test: 0\n"
     ]
    }
   ],
   "source": [
    "triple2lengths(train_triple2data, test_triple2data)"
   ]
  },
  {
   "cell_type": "code",
   "execution_count": 50,
   "metadata": {},
   "outputs": [],
   "source": [
    "train_ids = set([d['id'] for d in train_data])\n",
    "test_ids = set([d['id'] for d in test_data])\n",
    "orig_id = set([d['id'] for d in negative_data])"
   ]
  },
  {
   "cell_type": "code",
   "execution_count": 51,
   "metadata": {},
   "outputs": [
    {
     "data": {
      "text/plain": [
       "set()"
      ]
     },
     "execution_count": 51,
     "metadata": {},
     "output_type": "execute_result"
    }
   ],
   "source": [
    "orig_id - train_ids.union(test_ids)"
   ]
  },
  {
   "cell_type": "code",
   "execution_count": 52,
   "metadata": {},
   "outputs": [
    {
     "data": {
      "text/plain": [
       "set()"
      ]
     },
     "execution_count": 52,
     "metadata": {},
     "output_type": "execute_result"
    }
   ],
   "source": [
    "train_ids.intersection(test_ids)"
   ]
  },
  {
   "cell_type": "code",
   "execution_count": null,
   "metadata": {},
   "outputs": [],
   "source": []
  }
 ],
 "metadata": {
  "kernelspec": {
   "display_name": "Python 3",
   "language": "python",
   "name": "python3"
  },
  "language_info": {
   "codemirror_mode": {
    "name": "ipython",
    "version": 3
   },
   "file_extension": ".py",
   "mimetype": "text/x-python",
   "name": "python",
   "nbconvert_exporter": "python",
   "pygments_lexer": "ipython3",
   "version": "3.7.5"
  }
 },
 "nbformat": 4,
 "nbformat_minor": 1
}
