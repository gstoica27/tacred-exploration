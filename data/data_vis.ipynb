{
 "cells": [
  {
   "cell_type": "code",
   "execution_count": 24,
   "metadata": {},
   "outputs": [],
   "source": [
    "import json\n",
    "import numpy as np\n",
    "import os\n",
    "from collections import defaultdict"
   ]
  },
  {
   "cell_type": "code",
   "execution_count": 42,
   "metadata": {},
   "outputs": [],
   "source": [
    "data_dir = '/Volumes/External HDD/dataset/tacred/data/json'\n",
    "train_split_file = os.path.join(data_dir, 'train_split2.json')\n",
    "test_split_file = os.path.join(data_dir, 'test_split2.json')\n",
    "original_file = os.path.join(data_dir, 'train_negatives.json')"
   ]
  },
  {
   "cell_type": "code",
   "execution_count": 43,
   "metadata": {},
   "outputs": [],
   "source": [
    "def load_data(data_file):\n",
    "    with open(data_file, 'rb') as handle:\n",
    "        data = json.load(handle)\n",
    "    return data\n",
    "\n",
    "def group_by_triple(data):\n",
    "    triple2data = defaultdict(lambda: list())\n",
    "    for example in data:\n",
    "        relation = example['relation']\n",
    "        subject_type = example['subj_type']\n",
    "        object_type = example['obj_type']\n",
    "        triple = (subject_type, relation, object_type)\n",
    "        triple2data[triple].append(example)\n",
    "\n",
    "    for triple, examples in triple2data.items():\n",
    "        triple2data[triple] = np.array(examples)\n",
    "    return triple2data\n",
    "\n",
    "def triple2lengths(data1, data2):\n",
    "    data2_triple = set(list(data2.keys()))\n",
    "    seen_triple = set()\n",
    "    for triple, samples1 in data1.items():\n",
    "        seen_triple.add(triple)\n",
    "        samples2 = data2[triple]\n",
    "        print(f'{triple} | Train: {len(samples1)} | Test: {len(samples2)}')\n",
    "    unseen_triple  = data2_triple - seen_triple\n",
    "    for triple in unseen_triple:\n",
    "        print(f'{triple} | Train: 0 | Test: {len(data2[triple])}')"
   ]
  },
  {
   "cell_type": "code",
   "execution_count": 44,
   "metadata": {},
   "outputs": [
    {
     "ename": "FileNotFoundError",
     "evalue": "[Errno 2] No such file or directory: '/Volumes/External HDD/dataset/tacred/data/json/train_split2.json'",
     "output_type": "error",
     "traceback": [
      "\u001b[0;31m---------------------------------------------------------------------------\u001b[0m",
      "\u001b[0;31mFileNotFoundError\u001b[0m                         Traceback (most recent call last)",
      "\u001b[0;32m<ipython-input-44-68f5113944fa>\u001b[0m in \u001b[0;36m<module>\u001b[0;34m\u001b[0m\n\u001b[0;32m----> 1\u001b[0;31m \u001b[0mtrain_data\u001b[0m \u001b[0;34m=\u001b[0m \u001b[0mload_data\u001b[0m\u001b[0;34m(\u001b[0m\u001b[0mtrain_split_file\u001b[0m\u001b[0;34m)\u001b[0m\u001b[0;34m\u001b[0m\u001b[0;34m\u001b[0m\u001b[0m\n\u001b[0m\u001b[1;32m      2\u001b[0m \u001b[0mtest_data\u001b[0m \u001b[0;34m=\u001b[0m \u001b[0mload_data\u001b[0m\u001b[0;34m(\u001b[0m\u001b[0mtest_split_file\u001b[0m\u001b[0;34m)\u001b[0m\u001b[0;34m\u001b[0m\u001b[0;34m\u001b[0m\u001b[0m\n\u001b[1;32m      3\u001b[0m \u001b[0mnegative_data\u001b[0m \u001b[0;34m=\u001b[0m \u001b[0mload_data\u001b[0m\u001b[0;34m(\u001b[0m\u001b[0moriginal_file\u001b[0m\u001b[0;34m)\u001b[0m\u001b[0;34m\u001b[0m\u001b[0;34m\u001b[0m\u001b[0m\n",
      "\u001b[0;32m<ipython-input-43-5011bf3dc8ca>\u001b[0m in \u001b[0;36mload_data\u001b[0;34m(data_file)\u001b[0m\n\u001b[1;32m      1\u001b[0m \u001b[0;32mdef\u001b[0m \u001b[0mload_data\u001b[0m\u001b[0;34m(\u001b[0m\u001b[0mdata_file\u001b[0m\u001b[0;34m)\u001b[0m\u001b[0;34m:\u001b[0m\u001b[0;34m\u001b[0m\u001b[0;34m\u001b[0m\u001b[0m\n\u001b[0;32m----> 2\u001b[0;31m     \u001b[0;32mwith\u001b[0m \u001b[0mopen\u001b[0m\u001b[0;34m(\u001b[0m\u001b[0mdata_file\u001b[0m\u001b[0;34m,\u001b[0m \u001b[0;34m'rb'\u001b[0m\u001b[0;34m)\u001b[0m \u001b[0;32mas\u001b[0m \u001b[0mhandle\u001b[0m\u001b[0;34m:\u001b[0m\u001b[0;34m\u001b[0m\u001b[0;34m\u001b[0m\u001b[0m\n\u001b[0m\u001b[1;32m      3\u001b[0m         \u001b[0mdata\u001b[0m \u001b[0;34m=\u001b[0m \u001b[0mjson\u001b[0m\u001b[0;34m.\u001b[0m\u001b[0mload\u001b[0m\u001b[0;34m(\u001b[0m\u001b[0mhandle\u001b[0m\u001b[0;34m)\u001b[0m\u001b[0;34m\u001b[0m\u001b[0;34m\u001b[0m\u001b[0m\n\u001b[1;32m      4\u001b[0m     \u001b[0;32mreturn\u001b[0m \u001b[0mdata\u001b[0m\u001b[0;34m\u001b[0m\u001b[0;34m\u001b[0m\u001b[0m\n\u001b[1;32m      5\u001b[0m \u001b[0;34m\u001b[0m\u001b[0m\n",
      "\u001b[0;31mFileNotFoundError\u001b[0m: [Errno 2] No such file or directory: '/Volumes/External HDD/dataset/tacred/data/json/train_split2.json'"
     ]
    }
   ],
   "source": [
    "train_data = load_data(train_split_file)\n",
    "test_data = load_data(test_split_file)\n",
    "negative_data = load_data(original_file)"
   ]
  },
  {
   "cell_type": "code",
   "execution_count": 38,
   "metadata": {},
   "outputs": [],
   "source": [
    "train_triple2data = group_by_triple(train_data)\n",
    "test_triple2data = group_by_triple(test_data)"
   ]
  },
  {
   "cell_type": "code",
   "execution_count": 39,
   "metadata": {},
   "outputs": [
    {
     "name": "stdout",
     "output_type": "stream",
     "text": [
      "('ORGANIZATION', 'no_relation', 'ORGANIZATION') | Train: 4300 | Test: 2149\n",
      "('PERSON', 'no_relation', 'CAUSE_OF_DEATH') | Train: 247 | Test: 122\n",
      "('PERSON', 'no_relation', 'LOCATION') | Train: 769 | Test: 383\n",
      "('ORGANIZATION', 'no_relation', 'NUMBER') | Train: 2256 | Test: 1127\n",
      "('PERSON', 'no_relation', 'ORGANIZATION') | Train: 1863 | Test: 930\n",
      "('PERSON', 'no_relation', 'TITLE') | Train: 1160 | Test: 579\n",
      "('ORGANIZATION', 'no_relation', 'PERSON') | Train: 3028 | Test: 1513\n",
      "('PERSON', 'no_relation', 'DATE') | Train: 2238 | Test: 1118\n",
      "('PERSON', 'no_relation', 'NUMBER') | Train: 1218 | Test: 608\n",
      "('PERSON', 'no_relation', 'PERSON') | Train: 8280 | Test: 4139\n",
      "('PERSON', 'per:title', 'TITLE') | Train: 203 | Test: 100\n",
      "('ORGANIZATION', 'no_relation', 'DATE') | Train: 2867 | Test: 1432\n",
      "('ORGANIZATION', 'no_relation', 'CITY') | Train: 627 | Test: 313\n",
      "('PERSON', 'no_relation', 'STATE_OR_PROVINCE') | Train: 263 | Test: 131\n",
      "('ORGANIZATION', 'no_relation', 'LOCATION') | Train: 831 | Test: 414\n",
      "('ORGANIZATION', 'org:stateorprovince_of_headquarters', 'LOCATION') | Train: 7 | Test: 3\n",
      "('ORGANIZATION', 'org:member_of', 'ORGANIZATION') | Train: 41 | Test: 19\n",
      "('ORGANIZATION', 'no_relation', 'COUNTRY') | Train: 1055 | Test: 527\n",
      "('PERSON', 'no_relation', 'CITY') | Train: 492 | Test: 245\n",
      "('PERSON', 'per:parents', 'PERSON') | Train: 15 | Test: 7\n",
      "('ORGANIZATION', 'no_relation', 'STATE_OR_PROVINCE') | Train: 260 | Test: 129\n",
      "('PERSON', 'per:age', 'NUMBER') | Train: 25 | Test: 12\n",
      "('PERSON', 'per:employee_of', 'ORGANIZATION') | Train: 186 | Test: 92\n",
      "('PERSON', 'no_relation', 'NATIONALITY') | Train: 365 | Test: 181\n",
      "('ORGANIZATION', 'no_relation', 'MISC') | Train: 683 | Test: 341\n",
      "('PERSON', 'per:date_of_death', 'DATE') | Train: 24 | Test: 11\n",
      "('ORGANIZATION', 'org:member_of', 'LOCATION') | Train: 8 | Test: 3\n",
      "('PERSON', 'no_relation', 'COUNTRY') | Train: 599 | Test: 299\n",
      "('ORGANIZATION', 'org:city_of_headquarters', 'CITY') | Train: 77 | Test: 37\n",
      "('PERSON', 'no_relation', 'DURATION') | Train: 515 | Test: 256\n",
      "('ORGANIZATION', 'org:country_of_headquarters', 'COUNTRY') | Train: 135 | Test: 67\n",
      "('ORGANIZATION', 'no_relation', 'IDEOLOGY') | Train: 117 | Test: 57\n",
      "('PERSON', 'no_relation', 'MISC') | Train: 576 | Test: 287\n",
      "('ORGANIZATION', 'org:subsidiaries', 'ORGANIZATION') | Train: 62 | Test: 30\n",
      "('PERSON', 'no_relation', 'CRIMINAL_CHARGE') | Train: 59 | Test: 28\n",
      "('ORGANIZATION', 'org:alternate_names', 'ORGANIZATION') | Train: 98 | Test: 48\n",
      "('ORGANIZATION', 'org:alternate_names', 'MISC') | Train: 14 | Test: 6\n",
      "('PERSON', 'per:age', 'DURATION') | Train: 15 | Test: 6\n",
      "('PERSON', 'per:countries_of_residence', 'COUNTRY') | Train: 81 | Test: 39\n",
      "('PERSON', 'per:origin', 'COUNTRY') | Train: 16 | Test: 7\n",
      "('ORGANIZATION', 'org:members', 'COUNTRY') | Train: 17 | Test: 8\n",
      "('PERSON', 'per:cities_of_residence', 'LOCATION') | Train: 36 | Test: 17\n",
      "('PERSON', 'per:cities_of_residence', 'CITY') | Train: 52 | Test: 25\n",
      "('ORGANIZATION', 'org:top_members/employees', 'PERSON') | Train: 173 | Test: 86\n",
      "('PERSON', 'per:date_of_birth', 'DATE') | Train: 5 | Test: 2\n",
      "('ORGANIZATION', 'org:political/religious_affiliation', 'IDEOLOGY') | Train: 14 | Test: 6\n",
      "('PERSON', 'no_relation', 'RELIGION') | Train: 48 | Test: 23\n",
      "('ORGANIZATION', 'org:members', 'ORGANIZATION') | Train: 54 | Test: 26\n",
      "('ORGANIZATION', 'org:political/religious_affiliation', 'RELIGION') | Train: 21 | Test: 9\n",
      "('PERSON', 'per:origin', 'NATIONALITY') | Train: 52 | Test: 25\n",
      "('PERSON', 'per:stateorprovinces_of_residence', 'STATE_OR_PROVINCE') | Train: 35 | Test: 16\n",
      "('ORGANIZATION', 'no_relation', 'RELIGION') | Train: 73 | Test: 36\n",
      "('PERSON', 'per:other_family', 'PERSON') | Train: 67 | Test: 33\n",
      "('ORGANIZATION', 'org:number_of_employees/members', 'NUMBER') | Train: 31 | Test: 14\n",
      "('PERSON', 'per:alternate_names', 'PERSON') | Train: 38 | Test: 18\n",
      "('PERSON', 'per:spouse', 'PERSON') | Train: 51 | Test: 24\n",
      "('ORGANIZATION', 'org:subsidiaries', 'LOCATION') | Train: 17 | Test: 8\n",
      "('ORGANIZATION', 'org:founded_by', 'PERSON') | Train: 23 | Test: 11\n",
      "('ORGANIZATION', 'org:parents', 'ORGANIZATION') | Train: 71 | Test: 35\n",
      "('ORGANIZATION', 'org:country_of_headquarters', 'LOCATION') | Train: 8 | Test: 3\n",
      "('PERSON', 'per:countries_of_residence', 'LOCATION') | Train: 5 | Test: 2\n",
      "('ORGANIZATION', 'org:dissolved', 'DATE') | Train: 13 | Test: 5\n",
      "('ORGANIZATION', 'org:founded', 'DATE') | Train: 31 | Test: 15\n",
      "('PERSON', 'per:siblings', 'PERSON') | Train: 35 | Test: 17\n",
      "('PERSON', 'per:children', 'PERSON') | Train: 16 | Test: 7\n",
      "('ORGANIZATION', 'org:member_of', 'COUNTRY') | Train: 9 | Test: 3\n",
      "('PERSON', 'per:stateorprovinces_of_residence', 'LOCATION') | Train: 13 | Test: 5\n",
      "('PERSON', 'per:countries_of_residence', 'NATIONALITY') | Train: 21 | Test: 9\n",
      "('PERSON', 'per:schools_attended', 'ORGANIZATION') | Train: 10 | Test: 4\n",
      "('ORGANIZATION', 'org:stateorprovince_of_headquarters', 'STATE_OR_PROVINCE') | Train: 28 | Test: 13\n",
      "('ORGANIZATION', 'org:shareholders', 'ORGANIZATION') | Train: 9 | Test: 3\n",
      "('ORGANIZATION', 'org:shareholders', 'PERSON') | Train: 10 | Test: 4\n",
      "('ORGANIZATION', 'org:city_of_headquarters', 'LOCATION') | Train: 15 | Test: 6\n",
      "('PERSON', 'per:religion', 'RELIGION') | Train: 9 | Test: 3\n",
      "('ORGANIZATION', 'no_relation', 'URL') | Train: 44 | Test: 21\n",
      "('ORGANIZATION', 'org:parents', 'COUNTRY') | Train: 8 | Test: 3\n",
      "('ORGANIZATION', 'org:website', 'URL') | Train: 9 | Test: 4\n",
      "('PERSON', 'per:city_of_death', 'CITY') | Train: 5 | Test: 1\n",
      "('PERSON', 'per:cause_of_death', 'CAUSE_OF_DEATH') | Train: 5 | Test: 1\n",
      "('PERSON', 'per:country_of_birth', 'COUNTRY') | Train: 3 | Test: 1\n",
      "('PERSON', 'per:city_of_birth', 'CITY') | Train: 3 | Test: 1\n",
      "('ORGANIZATION', 'org:parents', 'LOCATION') | Train: 5 | Test: 1\n",
      "('PERSON', 'per:alternate_names', 'MISC') | Train: 6 | Test: 2\n",
      "('PERSON', 'per:charges', 'CRIMINAL_CHARGE') | Train: 5 | Test: 2\n"
     ]
    }
   ],
   "source": [
    "triple2lengths(train_triple2data, test_triple2data)"
   ]
  },
  {
   "cell_type": "code",
   "execution_count": null,
   "metadata": {},
   "outputs": [],
   "source": []
  },
  {
   "cell_type": "code",
   "execution_count": null,
   "metadata": {},
   "outputs": [],
   "source": []
  }
 ],
 "metadata": {
  "kernelspec": {
   "display_name": "Python 3",
   "language": "python",
   "name": "python3"
  },
  "language_info": {
   "codemirror_mode": {
    "name": "ipython",
    "version": 3
   },
   "file_extension": ".py",
   "mimetype": "text/x-python",
   "name": "python",
   "nbconvert_exporter": "python",
   "pygments_lexer": "ipython3",
   "version": "3.7.5"
  }
 },
 "nbformat": 4,
 "nbformat_minor": 1
}
