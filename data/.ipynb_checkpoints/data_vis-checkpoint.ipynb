{
 "cells": [
  {
   "cell_type": "code",
   "execution_count": 6,
   "metadata": {},
   "outputs": [],
   "source": [
    "import json\n",
    "import numpy as np\n",
    "import os\n",
    "from collections import defaultdict"
   ]
  },
  {
   "cell_type": "code",
   "execution_count": 2,
   "metadata": {},
   "outputs": [],
   "source": [
    "data_dir = '/Volumes/External HDD/dataset/tacred/data/json'\n",
    "train_split_file = os.path.join(data_dir, 'train_split.json')\n",
    "test_split_file = os.path.join(data_dir, 'test_split.json')"
   ]
  },
  {
   "cell_type": "code",
   "execution_count": 3,
   "metadata": {},
   "outputs": [],
   "source": [
    "def load_data(data_file):\n",
    "    with open(data_file, 'rb') as handle:\n",
    "        data = json.load(handle)\n",
    "    return data\n",
    "\n",
    "def group_by_relation(data):\n",
    "    relation2data = defaultdict(lambda: list())\n",
    "    for example in data:\n",
    "        relation = example['relation']\n",
    "        relation2data[relation].append(example)\n",
    "\n",
    "    for relation, examples in relation2data.items():\n",
    "        relation2data[relation] = np.array(examples)\n",
    "    return relation2data\n",
    "\n",
    "def relation2lengths(data1, data2):\n",
    "    data2_relations = set(list(data2.keys()))\n",
    "    seen_relations = set()\n",
    "    for relation, samples1 in data1.items():\n",
    "        seen_relations.add(relation)\n",
    "        samples2 = data2[relation]\n",
    "        print(f'Relation\" {relation} | Train: {len(samples1)} | Test: {len(samples2)}')\n",
    "    unseen_relation  = data2_relation "
   ]
  },
  {
   "cell_type": "code",
   "execution_count": 4,
   "metadata": {},
   "outputs": [],
   "source": [
    "train_data = load_data(train_split_file)\n",
    "test_data = load_data(test_split_file)"
   ]
  },
  {
   "cell_type": "code",
   "execution_count": 7,
   "metadata": {},
   "outputs": [],
   "source": [
    "train_rel2data = group_by_relation(train_data)\n",
    "test_rel2data = group_by_relation(test_data)"
   ]
  },
  {
   "cell_type": "code",
   "execution_count": 8,
   "metadata": {},
   "outputs": [
    {
     "name": "stdout",
     "output_type": "stream",
     "text": [
      "Relation\" no_relation: 34816\n",
      "Relation\" per:title: 203\n",
      "Relation\" org:stateorprovince_of_headquarters: 35\n",
      "Relation\" org:member_of: 58\n",
      "Relation\" per:parents: 15\n",
      "Relation\" per:age: 39\n",
      "Relation\" per:employee_of: 187\n",
      "Relation\" per:date_of_death: 24\n",
      "Relation\" org:city_of_headquarters: 91\n",
      "Relation\" org:country_of_headquarters: 143\n",
      "Relation\" org:subsidiaries: 79\n",
      "Relation\" org:alternate_names: 111\n",
      "Relation\" per:countries_of_residence: 105\n",
      "Relation\" per:origin: 69\n",
      "Relation\" org:members: 71\n",
      "Relation\" per:cities_of_residence: 87\n",
      "Relation\" org:top_members/employees: 173\n",
      "Relation\" per:date_of_birth: 5\n",
      "Relation\" org:political/religious_affiliation: 34\n",
      "Relation\" per:stateorprovinces_of_residence: 47\n",
      "Relation\" per:other_family: 67\n",
      "Relation\" org:number_of_employees/members: 31\n",
      "Relation\" per:alternate_names: 43\n",
      "Relation\" per:spouse: 51\n",
      "Relation\" org:founded_by: 23\n",
      "Relation\" org:parents: 83\n",
      "Relation\" org:dissolved: 13\n",
      "Relation\" org:founded: 31\n",
      "Relation\" per:siblings: 35\n",
      "Relation\" per:children: 16\n",
      "Relation\" per:schools_attended: 10\n",
      "Relation\" org:shareholders: 18\n",
      "Relation\" per:religion: 9\n",
      "Relation\" org:website: 9\n",
      "Relation\" per:city_of_death: 6\n",
      "Relation\" per:cause_of_death: 5\n",
      "Relation\" per:country_of_birth: 4\n",
      "Relation\" per:city_of_birth: 4\n",
      "Relation\" per:charges: 5\n"
     ]
    }
   ],
   "source": [
    "relation2lengths(train_rel2data)"
   ]
  },
  {
   "cell_type": "code",
   "execution_count": 9,
   "metadata": {},
   "outputs": [
    {
     "name": "stdout",
     "output_type": "stream",
     "text": [
      "Relation\" no_relation: 17405\n",
      "Relation\" per:title: 100\n",
      "Relation\" org:stateorprovince_of_headquarters: 16\n",
      "Relation\" org:member_of: 28\n",
      "Relation\" per:parents: 7\n",
      "Relation\" per:age: 19\n",
      "Relation\" per:employee_of: 92\n",
      "Relation\" per:date_of_death: 11\n",
      "Relation\" org:city_of_headquarters: 44\n",
      "Relation\" org:country_of_headquarters: 70\n",
      "Relation\" org:subsidiaries: 39\n",
      "Relation\" org:alternate_names: 55\n",
      "Relation\" per:countries_of_residence: 52\n",
      "Relation\" per:origin: 34\n",
      "Relation\" org:members: 34\n",
      "Relation\" per:cities_of_residence: 43\n",
      "Relation\" org:top_members/employees: 86\n",
      "Relation\" per:date_of_birth: 2\n",
      "Relation\" org:political/religious_affiliation: 16\n",
      "Relation\" per:stateorprovinces_of_residence: 22\n",
      "Relation\" per:other_family: 33\n",
      "Relation\" org:number_of_employees/members: 14\n",
      "Relation\" per:alternate_names: 21\n",
      "Relation\" per:spouse: 24\n",
      "Relation\" org:founded_by: 11\n",
      "Relation\" org:parents: 40\n",
      "Relation\" org:dissolved: 5\n",
      "Relation\" org:founded: 15\n",
      "Relation\" per:siblings: 17\n",
      "Relation\" per:children: 7\n",
      "Relation\" per:schools_attended: 4\n",
      "Relation\" org:shareholders: 8\n",
      "Relation\" per:religion: 3\n",
      "Relation\" org:website: 4\n",
      "Relation\" per:city_of_death: 2\n",
      "Relation\" per:cause_of_death: 1\n",
      "Relation\" per:country_of_birth: 1\n",
      "Relation\" per:city_of_birth: 1\n",
      "Relation\" per:charges: 2\n"
     ]
    }
   ],
   "source": [
    "relation2lengths(test_rel2data)"
   ]
  },
  {
   "cell_type": "code",
   "execution_count": null,
   "metadata": {},
   "outputs": [],
   "source": []
  }
 ],
 "metadata": {
  "kernelspec": {
   "display_name": "Python 3",
   "language": "python",
   "name": "python3"
  },
  "language_info": {
   "codemirror_mode": {
    "name": "ipython",
    "version": 3
   },
   "file_extension": ".py",
   "mimetype": "text/x-python",
   "name": "python",
   "nbconvert_exporter": "python",
   "pygments_lexer": "ipython3",
   "version": "3.7.5"
  }
 },
 "nbformat": 4,
 "nbformat_minor": 1
}
